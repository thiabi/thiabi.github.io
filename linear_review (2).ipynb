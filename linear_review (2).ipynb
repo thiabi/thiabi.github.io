{
 "cells": [
  {
   "cell_type": "code",
   "execution_count": 3,
   "metadata": {},
   "outputs": [],
   "source": [
    "import pandas as pd\n",
    "import numpy as np\n",
    "from sklearn.linear_model import LinearRegression \n",
    "import matplotlib.pyplot as plt\n",
    "%matplotlib inline"
   ]
  },
  {
   "cell_type": "markdown",
   "metadata": {},
   "source": [
    "Let's create some sythetic data that obeys the following formula:\n",
    "\n",
    "$$y=1.5x+2+\\epsilon$$\n",
    "- $x$ is input\n",
    "- $y$ is target\n",
    "- 1.5 is the slope ($m_{actual}$)\n",
    "- 2 is the y-axis intercept ($b_{actual}$)\n"
   ]
  },
  {
   "cell_type": "code",
   "execution_count": 6,
   "metadata": {},
   "outputs": [],
   "source": [
    "np.random.seed(137)"
   ]
  },
  {
   "cell_type": "code",
   "execution_count": 11,
   "metadata": {},
   "outputs": [
    {
     "data": {
      "text/plain": [
       "(5.154040663813932, 24.612474527759524, (100,))"
      ]
     },
     "execution_count": 11,
     "metadata": {},
     "output_type": "execute_result"
    }
   ],
   "source": [
    "#lets create 100 x values between 5 and 25\n",
    "#np.random.random gives uniform random number between 0.0 and 1.0\n",
    "#so...range is 25-5 or 20\n",
    "#and...offset is 5\n",
    "x=20*np.random.random(100)+5\n",
    "x.min(),x.max(),x.shape"
   ]
  },
  {
   "cell_type": "code",
   "execution_count": 12,
   "metadata": {},
   "outputs": [
    {
     "name": "stdout",
     "output_type": "stream",
     "text": [
      "(100,)\n",
      "-0.06787602531235391\n",
      "1.9684238413297628\n"
     ]
    }
   ],
   "source": [
    "#now lets create some noise!!!\n",
    "#this noise will be 100 epsilon values \n",
    "#it will be sampled from a gaussian with mean 0 and std 2\n",
    "eps=2*np.random.randn(100)\n",
    "print(eps.shape)\n",
    "print(eps.mean())\n",
    "print(eps.std())"
   ]
  },
  {
   "cell_type": "code",
   "execution_count": 14,
   "metadata": {},
   "outputs": [
    {
     "data": {
      "text/plain": [
       "array([19.91900561, 38.51501412, 17.77518239, 10.79156127, 20.13530842,\n",
       "       23.12422955, 38.88533695, 19.50679077, 33.8645037 , 27.70319261,\n",
       "       31.86630111, 25.64209052, 37.42973258, 10.29397951, 31.57721952,\n",
       "       18.20810068, 11.34395686, 23.67887646, 11.88880573, 13.38468553,\n",
       "       35.11149028, 30.09775136, 37.50030521, 26.91875433, 22.64645264,\n",
       "       21.82268093, 13.41511252, 21.4214463 , 14.91430419, 36.30643614,\n",
       "       38.32690049, 30.47800497, 36.0822868 , 37.59488184, 22.31222597,\n",
       "       20.59686415, 23.36066762, 30.80015497, 33.35557464, 11.8357172 ,\n",
       "       37.70542201, 27.4818991 ,  9.57405799, 27.55373696, 13.25535544,\n",
       "       22.19379056, 23.07248475, 15.01653117, 34.5975201 , 24.6324412 ,\n",
       "       32.64415445, 35.28877758, 22.52459162, 28.10781626, 26.89045165,\n",
       "       18.41407318, 23.5581402 , 21.317157  , 17.77430405, 30.22769201,\n",
       "       36.41430503, 14.53232261, 35.81257623, 27.26152289, 27.8457753 ,\n",
       "       24.87833585, 22.36034713, 22.96625328, 20.04383256, 28.08927063,\n",
       "       32.69549445, 32.88959593,  9.08795272, 20.1684006 , 10.43657096,\n",
       "       37.77089367, 34.80451663, 22.46628009, 39.63402634, 26.07688387,\n",
       "       11.13936237, 12.88290945, 22.95882178, 21.40479254, 29.97049591,\n",
       "       28.38190875, 36.53735972, 27.1417814 , 24.58297219, 30.93713987,\n",
       "       14.85721295, 27.80722024, 35.59957349, 14.64811121, 28.39476664,\n",
       "       18.77104753, 21.03410736, 19.54286802, 21.78745126, 33.99088556])"
      ]
     },
     "execution_count": 14,
     "metadata": {},
     "output_type": "execute_result"
    }
   ],
   "source": [
    "#now let's create our y values from x and eps\n",
    "#remember y=1.5*x+2+eps\n",
    "y=1.5*x+2+eps\n",
    "y"
   ]
  },
  {
   "cell_type": "code",
   "execution_count": 15,
   "metadata": {},
   "outputs": [
    {
     "data": {
      "text/plain": [
       "(0, 50)"
      ]
     },
     "execution_count": 15,
     "metadata": {},
     "output_type": "execute_result"
    },
    {
     "data": {
      "image/png": "[encoded data removed]",
      "text/plain": [
       "<Figure size 432x288 with 1 Axes>"
      ]
     },
     "metadata": {
      "needs_background": "light"
     },
     "output_type": "display_data"
    }
   ],
   "source": [
    "#lets graph it\n",
    "plt.plot(x,y,'.')\n",
    "plt.xlim(0,30)\n",
    "plt.ylim(0,50)"
   ]
  },
  {
   "cell_type": "code",
   "execution_count": 17,
   "metadata": {},
   "outputs": [],
   "source": [
    "#now that we have some  synthetic data lets model it!!!\n",
    "#whats nice about this is we have the actual function that generated to data\n",
    "x=x.reshape(-1,1)\n",
    "model = LinearRegression()\n",
    "model.fit(x, y)\n",
    "#ooooo ErRoR\n",
    "#y must have 2 dims (N,1)\n",
    "x=x.reshape(-1,1)"
   ]
  },
  {
   "cell_type": "code",
   "execution_count": 18,
   "metadata": {},
   "outputs": [
    {
     "data": {
      "text/plain": [
       "{'fit_intercept': True,\n",
       " 'normalize': False,\n",
       " 'copy_X': True,\n",
       " 'n_jobs': None,\n",
       " 'coef_': array([1.51141837]),\n",
       " '_residues': 387.09522885917374,\n",
       " 'rank_': 1,\n",
       " 'singular_': array([53.55986223]),\n",
       " 'intercept_': 1.7556983705553009}"
      ]
     },
     "execution_count": 18,
     "metadata": {},
     "output_type": "execute_result"
    }
   ],
   "source": [
    "#lets check the model parmeters\n",
    "model.__dict__"
   ]
  },
  {
   "cell_type": "code",
   "execution_count": 19,
   "metadata": {},
   "outputs": [
    {
     "data": {
      "text/plain": [
       "array([1.51141837])"
      ]
     },
     "execution_count": 19,
     "metadata": {},
     "output_type": "execute_result"
    }
   ],
   "source": [
    "m=model.coef_\n",
    "m"
   ]
  },
  {
   "cell_type": "code",
   "execution_count": 20,
   "metadata": {},
   "outputs": [
    {
     "data": {
      "text/plain": [
       "1.7556983705553009"
      ]
     },
     "execution_count": 20,
     "metadata": {},
     "output_type": "execute_result"
    }
   ],
   "source": [
    "b=model.intercept_\n",
    "b"
   ]
  },
  {
   "cell_type": "markdown",
   "metadata": {},
   "source": [
    "Our model is:\n",
    "$$\\hat y = m x + b$$"
   ]
  },
  {
   "cell_type": "code",
   "execution_count": 21,
   "metadata": {},
   "outputs": [],
   "source": [
    "#lets predict for y values for x=0 and x=30\n",
    "x_in=[[0],[30]]\n",
    "y_pred=model.predict(x_in)"
   ]
  },
  {
   "cell_type": "code",
   "execution_count": 22,
   "metadata": {},
   "outputs": [
    {
     "data": {
      "text/plain": [
       "(0, 50)"
      ]
     },
     "execution_count": 22,
     "metadata": {},
     "output_type": "execute_result"
    },
    {
     "data": {
      "image/png": "[encoded data removed]",
      "text/plain": [
       "<Figure size 432x288 with 1 Axes>"
      ]
     },
     "metadata": {
      "needs_background": "light"
     },
     "output_type": "display_data"
    }
   ],
   "source": [
    "#lets graph it\n",
    "plt.plot(x,y,'.')\n",
    "plt.plot(x_in,y_pred,'r.-',markersize=20)\n",
    "plt.xlim(0,30)\n",
    "plt.ylim(0,50)"
   ]
  },
  {
   "cell_type": "markdown",
   "metadata": {},
   "source": [
    "Now you try...\n",
    "\n",
    "Create synthetic data consisting of 500 data points.\n",
    "\n",
    "- Let x range from 10 to 60.\n",
    "- Set the slope to -0.5\n",
    "- Set the y-intercept to 40\n",
    "- Set the noise to be a gaussian distribution with zero mean and std 4\n",
    "- Graph your results\n",
    "\n",
    "Now build your model...\n",
    "- extract the model slope and model y-int\n",
    "- predict output y for input x=(0,40,80)\n",
    "- Graph your results"
   ]
  },
  {
   "cell_type": "code",
   "execution_count": null,
   "metadata": {},
   "outputs": [],
   "source": []
  }
 ],
 "metadata": {
  "kernelspec": {
   "display_name": "Python 3",
   "language": "python",
   "name": "python3"
  },
  "language_info": {
   "codemirror_mode": {
    "name": "ipython",
    "version": 3
   },
   "file_extension": ".py",
   "mimetype": "text/x-python",
   "name": "python",
   "nbconvert_exporter": "python",
   "pygments_lexer": "ipython3",
   "version": "3.7.3"
  }
 },
 "nbformat": 4,
 "nbformat_minor": 2
}
