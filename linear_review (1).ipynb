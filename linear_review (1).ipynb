{
 "cells": [
  {
   "cell_type": "code",
   "execution_count": 2,
   "metadata": {},
   "outputs": [],
   "source": [
    "import pandas as pd\n",
    "import numpy as np\n",
    "from sklearn.linear_model import LinearRegression \n",
    "import matplotlib.pyplot as plt\n",
    "%matplotlib inline"
   ]
  },
  {
   "cell_type": "markdown",
   "metadata": {},
   "source": [
    "Let's create some sythetic data that obeys the following formula:\n",
    "\n",
    "$$y=1.5x+2+\\epsilon$$\n",
    "- $x$ is input\n",
    "- $y$ is target\n",
    "- 1.5 is the slope ($m_{actual}$)\n",
    "- 2 is the y-axis intercept ($b_{actual}$)\n"
   ]
  },
  {
   "cell_type": "code",
   "execution_count": 18,
   "metadata": {},
   "outputs": [
    {
     "data": {
      "text/plain": [
       "(10.034983111466186, 59.82088669875857, (500,))"
      ]
     },
     "execution_count": 18,
     "metadata": {},
     "output_type": "execute_result"
    }
   ],
   "source": [
    "#lets create 100 x values between 5 and 25\n",
    "#np.random.random gives uniform random number between 0.0 and 1.0\n",
    "#so...range is 25-5 or 20\n",
    "#and...offset is 5\n",
    "x=50*np.random.random(500)+10\n",
    "x.min(),x.max(),x.shape"
   ]
  },
  {
   "cell_type": "code",
   "execution_count": 20,
   "metadata": {},
   "outputs": [
    {
     "name": "stdout",
     "output_type": "stream",
     "text": [
      "(500,)\n",
      "0.18337413481298606\n",
      "3.8277210753259316\n"
     ]
    }
   ],
   "source": [
    "#now lets create some noise!!!\n",
    "#this noise will be 100 epsilon values \n",
    "#it will be sampled from a gaussian with mean 0 and std 2\n",
    "eps=4*np.random.randn(500)\n",
    "print(eps.shape)\n",
    "print(eps.mean())\n",
    "print(eps.std())"
   ]
  },
  {
   "cell_type": "code",
   "execution_count": 21,
   "metadata": {},
   "outputs": [
    {
     "data": {
      "text/plain": [
       "(500,)"
      ]
     },
     "execution_count": 21,
     "metadata": {},
     "output_type": "execute_result"
    }
   ],
   "source": [
    "#now let's create our y values from x and eps\n",
    "#remember y=1.5*x+2+eps\n",
    "y=-0.5*x+40+eps\n",
    "y.shape"
   ]
  },
  {
   "cell_type": "code",
   "execution_count": 9,
   "metadata": {},
   "outputs": [
    {
     "data": {
      "text/plain": [
       "(0, 40)"
      ]
     },
     "execution_count": 9,
     "metadata": {},
     "output_type": "execute_result"
    },
    {
     "data": {
      "image/png": "[encoded data removed]",
      "text/plain": [
       "<Figure size 432x288 with 1 Axes>"
      ]
     },
     "metadata": {
      "needs_background": "light"
     },
     "output_type": "display_data"
    }
   ],
   "source": [
    "#lets graph it\n",
    "plt.plot(x,y,'.')\n",
    "plt.xlim(0,40,80)\n"
   ]
  },
  {
   "cell_type": "code",
   "execution_count": 12,
   "metadata": {},
   "outputs": [],
   "source": [
    "#now that we have some  synthetic data lets model it!!!\n",
    "#whats nice about this is we have the actual function that generated to data\n",
    "x=x.reshape(-1,1)\n",
    "model = LinearRegression()\n",
    "model.fit(x, y)\n",
    "#ooooo ErRoR\n",
    "#y must have 2 dims (N,1)\n",
    "x=x.reshape(-1,1)"
   ]
  },
  {
   "cell_type": "code",
   "execution_count": 13,
   "metadata": {},
   "outputs": [
    {
     "data": {
      "text/plain": [
       "{'fit_intercept': True,\n",
       " 'normalize': False,\n",
       " 'copy_X': True,\n",
       " 'n_jobs': None,\n",
       " 'coef_': array([-0.55526373]),\n",
       " '_residues': 1547.8516204278915,\n",
       " 'rank_': 1,\n",
       " 'singular_': array([140.31774566]),\n",
       " 'intercept_': 42.10737973975733}"
      ]
     },
     "execution_count": 13,
     "metadata": {},
     "output_type": "execute_result"
    }
   ],
   "source": [
    "#lets check the model parmeters\n",
    "model.__dict__"
   ]
  },
  {
   "cell_type": "code",
   "execution_count": 14,
   "metadata": {},
   "outputs": [
    {
     "data": {
      "text/plain": [
       "array([-0.55526373])"
      ]
     },
     "execution_count": 14,
     "metadata": {},
     "output_type": "execute_result"
    }
   ],
   "source": [
    "m=model.coef_\n",
    "m"
   ]
  },
  {
   "cell_type": "code",
   "execution_count": 15,
   "metadata": {},
   "outputs": [
    {
     "data": {
      "text/plain": [
       "42.10737973975733"
      ]
     },
     "execution_count": 15,
     "metadata": {},
     "output_type": "execute_result"
    }
   ],
   "source": [
    "b=model.intercept_\n",
    "b"
   ]
  },
  {
   "cell_type": "markdown",
   "metadata": {},
   "source": [
    "Our model is:\n",
    "$$\\hat y = m x + b$$"
   ]
  },
  {
   "cell_type": "code",
   "execution_count": 17,
   "metadata": {},
   "outputs": [],
   "source": [
    "#lets predict for y values for x=0 and x=30\n",
    "x_in=[[0],[40],[80]]\n",
    "y_pred=model.predict(x_in)"
   ]
  },
  {
   "cell_type": "code",
   "execution_count": null,
   "metadata": {},
   "outputs": [],
   "source": [
    "#lets graph it\n",
    "plt.plot(x,y,'.')\n",
    "plt.plot(x_in,y_pred,'r.-',markersize=20)\n",
    "plt.xlim(0,30)\n",
    "plt.ylim(0,50)"
   ]
  },
  {
   "cell_type": "markdown",
   "metadata": {},
   "source": [
    "Now you try...\n",
    "\n",
    "Create synthetic data consisting of 500 data points.\n",
    "\n",
    "- Let x range from 10 to 60.\n",
    "- Set the slope to -0.5\n",
    "- Set the y-intercept to 40\n",
    "- Set the noise to be a gaussian distribution with zero mean and std 4\n",
    "- Graph your results\n",
    "\n",
    "Now build your model...\n",
    "- extract the model slope and model y-int\n",
    "- predict output y for input x=(0,40,80)\n",
    "- Graph your results"
   ]
  },
  {
   "cell_type": "code",
   "execution_count": null,
   "metadata": {},
   "outputs": [],
   "source": []
  }
 ],
 "metadata": {
  "kernelspec": {
   "display_name": "Python 3",
   "language": "python",
   "name": "python3"
  },
  "language_info": {
   "codemirror_mode": {
    "name": "ipython",
    "version": 3
   },
   "file_extension": ".py",
   "mimetype": "text/x-python",
   "name": "python",
   "nbconvert_exporter": "python",
   "pygments_lexer": "ipython3",
   "version": "3.7.3"
  }
 },
 "nbformat": 4,
 "nbformat_minor": 2
}
